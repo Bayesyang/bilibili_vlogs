{
 "cells": [
  {
   "cell_type": "markdown",
   "id": "8d0665e6",
   "metadata": {},
   "source": [
    "## basics"
   ]
  },
  {
   "cell_type": "markdown",
   "id": "7eeae6f6",
   "metadata": {},
   "source": [
    "- references\n",
    "    - https://github.com/pytorch/examples/tree/main/reinforcement_learning\n",
    "    - https://towardsdatascience.com/understanding-actor-critic-methods-931b97b6df3f\n",
    "    - https://lilianweng.github.io/posts/2018-04-08-policy-gradient/\n",
    "- Actor - Critic\n",
    "    - Actor\n",
    "        - The policy gradient method is also the “actor” part of Actor-Critic methods \n",
    "  - Critic"
   ]
  }
 ],
 "metadata": {
  "kernelspec": {
   "display_name": "Python 3 (ipykernel)",
   "language": "python",
   "name": "python3"
  },
  "language_info": {
   "codemirror_mode": {
    "name": "ipython",
    "version": 3
   },
   "file_extension": ".py",
   "mimetype": "text/x-python",
   "name": "python",
   "nbconvert_exporter": "python",
   "pygments_lexer": "ipython3",
   "version": "3.10.9"
  },
  "toc": {
   "base_numbering": 1,
   "nav_menu": {},
   "number_sections": true,
   "sideBar": true,
   "skip_h1_title": false,
   "title_cell": "Table of Contents",
   "title_sidebar": "Contents",
   "toc_cell": false,
   "toc_position": {},
   "toc_section_display": true,
   "toc_window_display": false
  }
 },
 "nbformat": 4,
 "nbformat_minor": 5
}
