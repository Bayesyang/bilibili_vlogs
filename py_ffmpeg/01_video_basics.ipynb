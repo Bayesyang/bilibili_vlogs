{
 "cells": [
  {
   "cell_type": "code",
   "execution_count": 2,
   "metadata": {
    "ExecuteTime": {
     "end_time": "2022-07-10T04:19:26.386651Z",
     "start_time": "2022-07-10T04:19:26.384303Z"
    }
   },
   "outputs": [],
   "source": [
    "# pip install ffmpeg\n",
    "# pip install ffmpeg-python\n",
    "# pip install ffprobe\n",
    "import ffmpeg"
   ]
  },
  {
   "cell_type": "code",
   "execution_count": 3,
   "metadata": {
    "ExecuteTime": {
     "end_time": "2022-07-10T04:19:52.027680Z",
     "start_time": "2022-07-10T04:19:51.909085Z"
    }
   },
   "outputs": [],
   "source": [
    "probe = ffmpeg.probe('./vtest.avi')"
   ]
  },
  {
   "cell_type": "code",
   "execution_count": 13,
   "metadata": {
    "ExecuteTime": {
     "end_time": "2022-07-10T04:21:45.738266Z",
     "start_time": "2022-07-10T04:21:45.735268Z"
    }
   },
   "outputs": [],
   "source": [
    "video_stream = next((stream for stream in probe['streams'] if stream['codec_type'] == 'video'), None)\n",
    "width = int(video_stream['width'])\n",
    "height = int(video_stream['height'])\n",
    "duration = float(video_stream['duration'])\n",
    "nb_frames = int(video_stream['nb_frames'])"
   ]
  },
  {
   "cell_type": "code",
   "execution_count": 14,
   "metadata": {
    "ExecuteTime": {
     "end_time": "2022-07-10T04:21:50.548664Z",
     "start_time": "2022-07-10T04:21:50.544853Z"
    }
   },
   "outputs": [
    {
     "data": {
      "text/plain": [
       "795"
      ]
     },
     "execution_count": 14,
     "metadata": {},
     "output_type": "execute_result"
    }
   ],
   "source": [
    "nb_frames"
   ]
  }
 ],
 "metadata": {
  "kernelspec": {
   "display_name": "Python 3",
   "language": "python",
   "name": "python3"
  },
  "language_info": {
   "codemirror_mode": {
    "name": "ipython",
    "version": 3
   },
   "file_extension": ".py",
   "mimetype": "text/x-python",
   "name": "python",
   "nbconvert_exporter": "python",
   "pygments_lexer": "ipython3",
   "version": "3.6.8"
  }
 },
 "nbformat": 4,
 "nbformat_minor": 2
}
